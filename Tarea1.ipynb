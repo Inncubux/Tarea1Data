{
  "cells": [
    {
      "cell_type": "markdown",
      "metadata": {
        "id": "ei1BTB0lrLfl"
      },
      "source": [
        "# Tarea 1 - Introducción a Data Science\n",
        "\n",
        "#### Integrantes:\n",
        "Axel Mondaca\n",
        "\n",
        "Sebastián Hernández"
      ]
    },
    {
      "cell_type": "markdown",
      "metadata": {
        "id": "UDAg2aV6sxEg"
      },
      "source": [
        "### Instalación de librerías"
      ]
    },
    {
      "cell_type": "code",
      "execution_count": null,
      "metadata": {
        "colab": {
          "base_uri": "https://localhost:8080/"
        },
        "id": "1ciLTbf9nn6v",
        "outputId": "02a26709-3589-41af-abe4-a55b493e6a64"
      },
      "outputs": [],
      "source": [
        "%pip install selenium\n",
        "%pip install pandas\n",
        "%pip install matplotlib"
      ]
    },
    {
      "cell_type": "markdown",
      "metadata": {
        "id": "hb_4LPURrjb_"
      },
      "source": [
        "### Importar librerías"
      ]
    },
    {
      "cell_type": "code",
      "execution_count": null,
      "metadata": {
        "id": "NfnAmlQspwQJ"
      },
      "outputs": [],
      "source": [
        "import pandas as pd\n",
        "from selenium import webdriver\n",
        "from selenium.webdriver.common.by import By\n",
        "from selenium.webdriver.chrome.options import Options\n",
        "import matplotlib.pyplot as plt\n",
        "import math\n",
        "import re"
      ]
    },
    {
      "cell_type": "markdown",
      "metadata": {
        "id": "TJuuCP33ts-R"
      },
      "source": [
        "### Código"
      ]
    },
    {
      "cell_type": "code",
      "execution_count": null,
      "metadata": {
        "id": "8Zpl47SxtwR3"
      },
      "outputs": [],
      "source": [
        "base_url = \"https://nextspaceflight.com/launches/past/\" #Indicamos el sitio web\n",
        "last_page = 240 #Indicamos el total de páginas"
      ]
    },
    {
      "cell_type": "code",
      "execution_count": null,
      "metadata": {
        "colab": {
          "base_uri": "https://localhost:8080/",
          "height": 668
        },
        "collapsed": true,
        "id": "9i_J-fH2uC4S",
        "outputId": "0d3b55c4-e09b-4dc7-d6ed-a7eecf446d5c"
      },
      "outputs": [],
      "source": [
        "options = Options()\n",
        "options.add_argument(\"--headless\")\n",
        "browser = webdriver.Chrome(options=options)\n",
        "browser.get(base_url)\n",
        "\n",
        "browser2 = webdriver.Chrome(options=options)\n",
        "#Obtención de datos\n",
        "launch_data = []\n",
        "for page in range(1, 2):  \n",
        "    browser.get(f\"{base_url}?page={page}\") # obtenemos el html (hace la petición), sin selenium sería la librería de requests\n",
        "    cards = browser.find_elements(By.CLASS_NAME, \"mdl-card\")\n",
        "    averageprice = 0\n",
        "    averageheight = 0\n",
        "    Payloadweightaverage = 0\n",
        "    pricecounter = 0\n",
        "    heightcounter = 0\n",
        "    payloadweightcounter = 0\n",
        "    for card in cards:\n",
        "        company = card.find_element(By.CLASS_NAME, \"mdl-card__title-text\").text\n",
        "        rocket_and_payload = card.find_element(By.CLASS_NAME, \"header-style\").text\n",
        "        date_and_location = card.find_element(By.CLASS_NAME, \"mdl-card__supporting-text\").text.replace(\",\", \" \")\n",
        "        details_url = card.find_element(By.CLASS_NAME, \"mdc-button\").get_attribute(\"href\")\n",
        "        total_payload = 0\n",
        "        rocket_height = 0\n",
        "        fairing_diameter = 0\n",
        "        fairing_height = 0\n",
        "        price = 0\n",
        "\n",
        "        pricecounter += 1\n",
        "        heightcounter += 1\n",
        "        payloadweightcounter += 1\n",
        "        \n",
        "        \n",
        "        #Navegamos a la página de detalles\n",
        "        browser2.get(details_url)\n",
        "        \n",
        "        try: \n",
        "            sections = browser2.find_elements(By.CLASS_NAME, \"mdl-card__supporting-text\")\n",
        "            for section in sections:\n",
        "                elements = section.find_elements(By.CLASS_NAME, \"mdl-cell\")\n",
        "                for element in elements:\n",
        "                    #Calculamos el total payload\n",
        "                    text = element.text.strip()\n",
        "                    if \"Payload to LEO\" in text:\n",
        "                        number = int(text.split(\":\")[1].replace(\",\", \"\").replace(\" kg\", \"\").strip())\n",
        "                        total_payload += number\n",
        "                        Payloadweightaverage += total_payload\n",
        "                        if total_payload == 0.0:\n",
        "                            payloadweightcounter -= 1\n",
        "                    elif \"Payload to GTO\" in text:\n",
        "                        number = int(text.split(\":\")[1].replace(\",\", \"\").replace(\" kg\", \"\").strip())\n",
        "                        total_payload += number\n",
        "                        Payloadweightaverage += total_payload\n",
        "                        if total_payload == 0.0:\n",
        "                            payloadweightcounter -= 1\n",
        "                    #Obtenemos las dimensiones del cohete\n",
        "                    elif \"Rocket Height\" in text:\n",
        "                        number = float(text.split(\":\")[1].replace(\"m\", \"\").strip())\n",
        "                        rocket_height += number\n",
        "                    elif \"Fairing Diameter\" in text:\n",
        "                        number = float(text.split(\":\")[1].replace(\"m\", \"\").strip())\n",
        "                        fairing_diameter += number\n",
        "                    elif \"Fairing Height\" in text:\n",
        "                        number = float(text.split(\":\")[1].replace(\"m\", \"\").strip())\n",
        "                        fairing_height += number\n",
        "                        averageheight += fairing_height\n",
        "                        if fairing_height == 0.0:\n",
        "                            heightcounter -= 1\n",
        "                    #Obtenermos el precio\n",
        "                    elif \"Price\" in text:\n",
        "                        number = float(text.split(\":\")[1].replace(\",\", \"\").replace(\"$\", \"\").replace(\"million\", \"\").strip())\n",
        "                        price += number\n",
        "                        averageprice += price\n",
        "                        if price == 0.0:\n",
        "                            pricecounter -= 1\n",
        "\n",
        "        except Exception as e:\n",
        "            print(f\"Error al obtener detalles de la URL {details_url}: {e}\")\n",
        "        \n",
        "        # Creamos el diccionario con los datos obtenidos\n",
        "        launch_dict = {'company': company, \n",
        "                    'rocket_and_payload': rocket_and_payload, \n",
        "                    'date_and_location': date_and_location, \n",
        "                    'details_url': details_url,\n",
        "                    'total_payload': total_payload,\n",
        "                    'fairing_diameter': fairing_diameter,\n",
        "                    'fairing_height': fairing_height,\n",
        "                    'rocket_height': rocket_height,\n",
        "                    'price': price}\n",
        "    \n",
        "        launch_data.append(launch_dict)\n",
        "    \n",
        "    averageheight = averageheight/heightcounter\n",
        "    averageprice = averageprice/pricecounter\n",
        "    Payloadweightaverage = Payloadweightaverage(payloadweightcounter)\n",
        "\n",
        "    for each in launch_data:\n",
        "        if total_payload == 0.0:\n",
        "            total_payload = Payloadweightaverage\n",
        "        if fairing_height == 0.0:\n",
        "            fairing_height = averageheight\n",
        "        if price == 0.0:\n",
        "            price = averageprice\n",
        "        volume = ((1/3)*math.pi*((fairing_diameter/2)**2)*fairing_height)+(math.pi*((fairing_diameter/2)**2)*rocket_height)\n",
        "        launch_dict2 = {'volume': volume}\n",
        "        launch_data.append(launch_dict2)\n",
        "\n",
        "\n",
        "browser.quit()\n",
        "browser2.quit()\n",
        "\n",
        "# Crear DataFrame\n",
        "df = pd.DataFrame(launch_data, columns=['company', 'rocket_and_payload', 'date_and_location', 'details_url',\n",
        "                                        'total_payload', 'fairing_diameter', 'fairing_height', 'rocket_height',\n",
        "                                        'price','volume'])\n",
        "df.size\n",
        "df.shape\n",
        "df[\"rocket\"] = df[\"rocket_and_payload\"].str.split(\"|\").str[0]\n",
        "df[\"payload\"] = df[\"rocket_and_payload\"].str.split(\"|\").str[1]\n",
        "df[\"date\"] = df[\"date_and_location\"].str.split(\"\\n\").str[0]\n",
        "df[\"location\"] = df[\"date_and_location\"].str.split(\"\\n\").str[1]\n",
        "df.drop(columns=[\"rocket_and_payload\", \"date_and_location\"], inplace=True)\n",
        "\n",
        "df\n",
        "# Exportar a CSV\n",
        "df.to_csv('launch_data.csv', index=False)\n"
      ]
    },
    {
      "cell_type": "code",
      "execution_count": null,
      "metadata": {
        "id": "X6wHSoCnwC0F"
      },
      "outputs": [],
      "source": []
    }
  ],
  "metadata": {
    "colab": {
      "provenance": []
    },
    "kernelspec": {
      "display_name": "Python 3",
      "name": "python3"
    },
    "language_info": {
      "codemirror_mode": {
        "name": "ipython",
        "version": 3
      },
      "file_extension": ".py",
      "mimetype": "text/x-python",
      "name": "python",
      "nbconvert_exporter": "python",
      "pygments_lexer": "ipython3",
      "version": "3.13.7"
    }
  },
  "nbformat": 4,
  "nbformat_minor": 0
}
