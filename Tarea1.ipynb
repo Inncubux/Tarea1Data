{
  "cells": [
    {
      "cell_type": "markdown",
      "metadata": {
        "id": "ei1BTB0lrLfl"
      },
      "source": [
        "# Tarea 1 - Introducción a Data Science\n",
        "\n",
        "Integrantes:\n",
        "- Axel Mondaca\n",
        "- Sebastián Hernández"
      ]
    },
    {
      "cell_type": "markdown",
      "metadata": {
        "id": "UDAg2aV6sxEg"
      },
      "source": [
        "### Instalación de librerías\n",
        "\n",
        "Se instalan las librerías necesarías para el funcionamiento correcto del código."
      ]
    },
    {
      "cell_type": "code",
      "execution_count": null,
      "metadata": {
        "colab": {
          "base_uri": "https://localhost:8080/"
        },
        "id": "1ciLTbf9nn6v",
        "outputId": "02a26709-3589-41af-abe4-a55b493e6a64"
      },
      "outputs": [],
      "source": [
        "%pip install selenium\n",
        "%pip install pandas\n",
        "%pip install matplotlib"
      ]
    },
    {
      "cell_type": "markdown",
      "metadata": {
        "id": "hb_4LPURrjb_"
      },
      "source": [
        "### Importar librerías"
      ]
    },
    {
      "cell_type": "code",
      "execution_count": null,
      "metadata": {
        "id": "NfnAmlQspwQJ"
      },
      "outputs": [],
      "source": [
        "import pandas as pd\n",
        "from selenium import webdriver\n",
        "from selenium.webdriver.common.by import By\n",
        "from selenium.webdriver.chrome.options import Options\n",
        "import matplotlib.pyplot as plt\n",
        "import math"
      ]
    },
    {
      "cell_type": "markdown",
      "metadata": {
        "id": "TJuuCP33ts-R"
      },
      "source": [
        "### Código"
      ]
    },
    {
      "cell_type": "code",
      "execution_count": null,
      "metadata": {
        "id": "8Zpl47SxtwR3"
      },
      "outputs": [],
      "source": [
        "base_url = \"https://nextspaceflight.com/launches/past/\" #Indicamos el sitio web\n",
        "last_page = 240 #Indicamos el total de páginas"
      ]
    },
    {
      "cell_type": "code",
      "execution_count": null,
      "metadata": {
        "colab": {
          "base_uri": "https://localhost:8080/",
          "height": 668
        },
        "collapsed": true,
        "id": "9i_J-fH2uC4S",
        "outputId": "0d3b55c4-e09b-4dc7-d6ed-a7eecf446d5c"
      },
      "outputs": [],
      "source": [
        "options = Options()\n",
        "options.add_argument(\"--headless\")\n",
        "browser = webdriver.Chrome(options=options)\n",
        "browser.get(base_url)\n",
        "\n",
        "browser2 = webdriver.Chrome(options=options)\n",
        "#Obtención de datos\n",
        "launch_data = []\n",
        "for page in range(1, last_page):  \n",
        "    browser.get(f\"{base_url}?page={page}\") # obtenemos el html (hace la petición), sin selenium sería la librería de requests\n",
        "    cards = browser.find_elements(By.CLASS_NAME, \"mdl-card\")\n",
        "    \n",
        "    # Lectura de las cartas\n",
        "    for card in cards:\n",
        "        company = card.find_element(By.CLASS_NAME, \"mdl-card__title-text\").text\n",
        "        rocket_and_payload = card.find_element(By.CLASS_NAME, \"header-style\").text\n",
        "        date_and_location = card.find_element(By.CLASS_NAME, \"mdl-card__supporting-text\").text.replace(\",\", \"\").replace(\"CLST\", \"\").replace(\"CLT\", \"\").replace(\"GMT-4\", \"\")\n",
        "        details_url = card.find_element(By.CLASS_NAME, \"mdc-button\").get_attribute(\"href\")\n",
        "        style = card.get_attribute(\"style\")\n",
        "        total_payload = 0\n",
        "        rocket_height = 0\n",
        "        fairing_diameter = 0\n",
        "        fairing_height = 0\n",
        "        price = 0\n",
        "        volume = 0\n",
        "        success = \"Desconocido\"\n",
        "        color = card.get_attribute(\"style\").split(\"border-color:\")[1].split(\";\")[0].strip().lower()\n",
        "        \n",
        "        #Navegamos a la página de detalles\n",
        "        browser2.get(details_url)\n",
        "        \n",
        "        try: \n",
        "            sections = browser2.find_elements(By.CLASS_NAME, \"mdl-card__supporting-text\")\n",
        "            for section in sections:\n",
        "                elements = section.find_elements(By.CLASS_NAME, \"mdl-cell\")\n",
        "                for element in elements:\n",
        "                    #Calculamos el total payload\n",
        "                    text = element.text.strip()\n",
        "                    if \"Payload to LEO\" in text:\n",
        "                        number = int(text.split(\":\")[1].replace(\",\", \"\").replace(\" kg\", \"\").strip())\n",
        "                        total_payload += number\n",
        "                    elif \"Payload to GTO\" in text:\n",
        "                        number = int(text.split(\":\")[1].replace(\",\", \"\").replace(\" kg\", \"\").strip())\n",
        "                        total_payload += number\n",
        "                    \n",
        "                    #Calculamos la altura del cohete y el diámetro y altura de la cofia\n",
        "                    elif \"Rocket Height\" in text:\n",
        "                        number = float(text.split(\":\")[1].replace(\"m\", \"\").strip())\n",
        "                        rocket_height += number\n",
        "                    elif \"Fairing Diameter\" in text:\n",
        "                        number = float(text.split(\":\")[1].replace(\"m\", \"\").strip())\n",
        "                        fairing_diameter += number\n",
        "                    elif \"Fairing Height\" in text:\n",
        "                        number = float(text.split(\":\")[1].replace(\"m\", \"\").strip())\n",
        "                        fairing_height += number\n",
        "                        \n",
        "                    #Obtenermos el precio\n",
        "                    elif \"Price\" in text:\n",
        "                        number = float(text.split(\":\")[1].replace(\",\", \"\").replace(\"$\", \"\").replace(\"million\", \"\").strip())\n",
        "                        price += number\n",
        "        except Exception as e:\n",
        "            print(f\"Error al obtener detalles de la URL {details_url}: {e}\")\n",
        "        \n",
        "        # Determinamos si el lanzamiento fue exitoso, fallido o parcialmente fallido\n",
        "        if color == \"rgb(69, 207, 93)\":\n",
        "            success = \"Success\"\n",
        "        elif color == \"rgb(218, 52, 50)\":\n",
        "            success = \"Failed\"\n",
        "        else:\n",
        "            success = \"Partial Failure\"\n",
        "            \n",
        "    # Creamos el diccionario con los datos obtenidos\n",
        "        launch_dict = {'company': company, \n",
        "                    'rocket_and_payload': rocket_and_payload, \n",
        "                    'date_and_location': date_and_location, \n",
        "                    'details_url': details_url,\n",
        "                    'total_payload': total_payload,\n",
        "                    'fairing_diameter': fairing_diameter,\n",
        "                    'fairing_height': fairing_height,\n",
        "                    'rocket_height': rocket_height,\n",
        "                    'price': price,\n",
        "                    'volume': volume,\n",
        "                    'success': success}\n",
        "\n",
        "        launch_data.append(launch_dict)\n",
        "\n",
        "\n",
        "browser.quit()\n",
        "browser2.quit()\n",
        "\n",
        "# Crear DataFrame\n",
        "df = pd.DataFrame(launch_data, columns=['company', 'rocket_and_payload', 'date_and_location', 'details_url',\n",
        "                                        'total_payload', 'fairing_diameter', 'fairing_height', 'rocket_height',\n",
        "                                        'price','volume','success'])\n",
        "df.size\n",
        "df.shape\n",
        "\n"
      ]
    },
    {
      "cell_type": "markdown",
      "metadata": {},
      "source": [
        "# Función para establecer el formato de la fecha\n"
      ]
    },
    {
      "cell_type": "code",
      "execution_count": 43,
      "metadata": {},
      "outputs": [],
      "source": [
        "def clean_date(scraped_date_string):\n",
        "    months = { \"Jan\":\"01\", \"Feb\":\"02\", \"Mar\":\"03\", \"Apr\":\"04\", \"May\":\"05\", \"Jun\":\"06\",\n",
        "               \"Jul\":\"07\", \"Aug\":\"08\", \"Sep\":\"09\", \"Oct\":\"10\", \"Nov\":\"11\", \"Dec\":\"12\" }\n",
        "    parts = scraped_date_string.split(\" \")\n",
        "    month = months[parts[1]]\n",
        "    day = parts[2].replace(\",\", \"\")\n",
        "    year = parts[3]\n",
        "    return f\"{year}/{month}/{day}\""
      ]
    },
    {
      "cell_type": "markdown",
      "metadata": {},
      "source": [
        "# Normalización de los datos\n",
        "\n",
        "En esta sección nos aseguramos que el data frame no tenga ruido en los datos y los formateamos según el uso que se le quiere entregar."
      ]
    },
    {
      "cell_type": "code",
      "execution_count": null,
      "metadata": {
        "id": "X6wHSoCnwC0F"
      },
      "outputs": [],
      "source": [
        "#Separación de columnas y limpieza de datos\n",
        "df[\"rocket\"] = df[\"rocket_and_payload\"].str.split(\"|\").str[0]\n",
        "df[\"payload\"] = df[\"rocket_and_payload\"].str.split(\"|\").str[1]\n",
        "df[\"date\"] = df[\"date_and_location\"].str.split(\"\\n\").str[0]\n",
        "df[\"location\"] = df[\"date_and_location\"].str.split(\"\\n\").str[1]\n",
        "# Eliminamos las columnas que ya no son necesarias\n",
        "df.drop(columns=[\"rocket_and_payload\", \"date_and_location\"], inplace=True)\n",
        "\n",
        "#Calculamos el volumen de la cofia y del cohete\n",
        "mean_height = df.loc[df[\"fairing_height\"] != 0.0, \"fairing_height\"].mean().round(2)\n",
        "df.loc[df[\"fairing_height\"] == 0.0, \"fairing_height\"] = mean_height\n",
        "df[\"volume\"] = (1/3) * math.pi * (df[\"fairing_diameter\"]/2)**2 * df[\"fairing_height\"] + math.pi * (df[\"fairing_diameter\"]/2)**2 * df[\"rocket_height\"]\n",
        "df[\"volume\"] = df[\"volume\"].round(2)\n",
        "\n",
        "#Calculamos el precio medio y reemplazamos los valores 0.0 por la media\n",
        "mean_price = df.loc[df[\"price\"] != 0.0, \"price\"].mean().round(2)\n",
        "df.loc[df[\"price\"] == 0.0, \"price\"] = mean_price\n",
        "# Limpiamos la columna de fecha\n",
        "df[\"date\"] = df[\"date\"].apply(clean_date)\n",
        "\n",
        "\n",
        "\n",
        "df\n",
        "# Exportar a CSV\n",
        "df.to_csv('launch_data.csv', index=False)"
      ]
    }
  ],
  "metadata": {
    "colab": {
      "provenance": []
    },
    "kernelspec": {
      "display_name": "Python 3",
      "name": "python3"
    },
    "language_info": {
      "codemirror_mode": {
        "name": "ipython",
        "version": 3
      },
      "file_extension": ".py",
      "mimetype": "text/x-python",
      "name": "python",
      "nbconvert_exporter": "python",
      "pygments_lexer": "ipython3",
      "version": "3.13.7"
    }
  },
  "nbformat": 4,
  "nbformat_minor": 0
}
